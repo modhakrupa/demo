{
 "cells": [
  {
   "cell_type": "markdown",
   "id": "7230ec3e",
   "metadata": {
    "_cell_guid": "b1076dfc-b9ad-4769-8c92-a6c4dae69d19",
    "_uuid": "8f2839f25d086af736a60e9eeb907d3b93b6e0e5",
    "papermill": {
     "duration": 0.002085,
     "end_time": "2023-10-05T11:00:52.469791",
     "exception": false,
     "start_time": "2023-10-05T11:00:52.467706",
     "status": "completed"
    },
    "tags": []
   },
   "source": [
    "## Krupa Modha\n",
    "## 216270307101"
   ]
  },
  {
   "cell_type": "code",
   "execution_count": 1,
   "id": "859bea09",
   "metadata": {
    "execution": {
     "iopub.execute_input": "2023-10-05T11:00:52.475169Z",
     "iopub.status.busy": "2023-10-05T11:00:52.474798Z",
     "iopub.status.idle": "2023-10-05T11:00:52.486695Z",
     "shell.execute_reply": "2023-10-05T11:00:52.485472Z"
    },
    "papermill": {
     "duration": 0.017888,
     "end_time": "2023-10-05T11:00:52.489490",
     "exception": false,
     "start_time": "2023-10-05T11:00:52.471602",
     "status": "completed"
    },
    "tags": []
   },
   "outputs": [
    {
     "name": "stdout",
     "output_type": "stream",
     "text": [
      "Original array: [ 1  2  3  4  5  6  7  8  9 10 11 12 13 14]\n",
      "After splitting:\n",
      "[array([1, 2]), array([3, 4, 5, 6]), array([ 7,  8,  9, 10, 11, 12, 13, 14])]\n"
     ]
    }
   ],
   "source": [
    "'''to split an array of 14 elements into 3 arrays, each with 2, 4, and 8 elements in the original order'''\n",
    "import numpy as np\n",
    "a2074 = np.arange(1, 15)\n",
    "print(\"Original array:\",a2074)\n",
    "print(\"After splitting:\")\n",
    "print(np.split(a2074, [2, 6]))"
   ]
  },
  {
   "cell_type": "code",
   "execution_count": 2,
   "id": "2e049a7c",
   "metadata": {
    "execution": {
     "iopub.execute_input": "2023-10-05T11:00:52.494407Z",
     "iopub.status.busy": "2023-10-05T11:00:52.494020Z",
     "iopub.status.idle": "2023-10-05T11:00:52.503071Z",
     "shell.execute_reply": "2023-10-05T11:00:52.501783Z"
    },
    "papermill": {
     "duration": 0.014408,
     "end_time": "2023-10-05T11:00:52.505737",
     "exception": false,
     "start_time": "2023-10-05T11:00:52.491329",
     "status": "completed"
    },
    "tags": []
   },
   "outputs": [
    {
     "data": {
      "text/plain": [
       "array([2, 0, 6, 2, 7, 0, 3, 0, 7, 0, 7, 4])"
      ]
     },
     "execution_count": 2,
     "metadata": {},
     "output_type": "execute_result"
    }
   ],
   "source": [
    "'''to stack arrays horizontally (column wise)'''\n",
    "b2074=np.array((2,0,6,2,7,0))\n",
    "c2074=np.array((3,0,7,0,7,4))\n",
    "np.hstack((b2074,c2074))"
   ]
  },
  {
   "cell_type": "code",
   "execution_count": null,
   "id": "ea6414db",
   "metadata": {
    "papermill": {
     "duration": 0.001651,
     "end_time": "2023-10-05T11:00:52.509310",
     "exception": false,
     "start_time": "2023-10-05T11:00:52.507659",
     "status": "completed"
    },
    "tags": []
   },
   "outputs": [],
   "source": []
  }
 ],
 "metadata": {
  "kernelspec": {
   "display_name": "Python 3",
   "language": "python",
   "name": "python3"
  },
  "language_info": {
   "codemirror_mode": {
    "name": "ipython",
    "version": 3
   },
   "file_extension": ".py",
   "mimetype": "text/x-python",
   "name": "python",
   "nbconvert_exporter": "python",
   "pygments_lexer": "ipython3",
   "version": "3.10.12"
  },
  "papermill": {
   "default_parameters": {},
   "duration": 3.560999,
   "end_time": "2023-10-05T11:00:52.931173",
   "environment_variables": {},
   "exception": null,
   "input_path": "__notebook__.ipynb",
   "output_path": "__notebook__.ipynb",
   "parameters": {},
   "start_time": "2023-10-05T11:00:49.370174",
   "version": "2.4.0"
  }
 },
 "nbformat": 4,
 "nbformat_minor": 5
}
