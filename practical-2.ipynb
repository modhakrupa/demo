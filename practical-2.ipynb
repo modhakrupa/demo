{
 "cells": [
  {
   "cell_type": "markdown",
   "id": "942bf188",
   "metadata": {
    "_cell_guid": "b1076dfc-b9ad-4769-8c92-a6c4dae69d19",
    "_uuid": "8f2839f25d086af736a60e9eeb907d3b93b6e0e5",
    "papermill": {
     "duration": 0.002228,
     "end_time": "2023-10-05T10:55:56.650092",
     "exception": false,
     "start_time": "2023-10-05T10:55:56.647864",
     "status": "completed"
    },
    "tags": []
   },
   "source": [
    "## Krupa Modha\n",
    "## 216270307101"
   ]
  },
  {
   "cell_type": "code",
   "execution_count": 1,
   "id": "4ad61e2c",
   "metadata": {
    "execution": {
     "iopub.execute_input": "2023-10-05T10:55:56.655762Z",
     "iopub.status.busy": "2023-10-05T10:55:56.654682Z",
     "iopub.status.idle": "2023-10-05T10:55:56.664021Z",
     "shell.execute_reply": "2023-10-05T10:55:56.663012Z"
    },
    "papermill": {
     "duration": 0.013888,
     "end_time": "2023-10-05T10:55:56.665846",
     "exception": false,
     "start_time": "2023-10-05T10:55:56.651958",
     "status": "completed"
    },
    "tags": []
   },
   "outputs": [
    {
     "name": "stdout",
     "output_type": "stream",
     "text": [
      "Original List: [2, 0, 7, 4]\n",
      "One-dimensional NumPy array:  2074\n"
     ]
    }
   ],
   "source": [
    "'''to convert a list of numeric values into a one-dimensional NumPy array'''\n",
    "import numpy as np\n",
    "a2074 = [2,0,7,4]\n",
    "print(\"Original List:\",a2074)\n",
    "b2074 = np.array(2074)\n",
    "print(\"One-dimensional NumPy array: \",b2074)"
   ]
  },
  {
   "cell_type": "code",
   "execution_count": 2,
   "id": "c195c568",
   "metadata": {
    "execution": {
     "iopub.execute_input": "2023-10-05T10:55:56.670248Z",
     "iopub.status.busy": "2023-10-05T10:55:56.670041Z",
     "iopub.status.idle": "2023-10-05T10:55:56.675121Z",
     "shell.execute_reply": "2023-10-05T10:55:56.674508Z"
    },
    "papermill": {
     "duration": 0.009518,
     "end_time": "2023-10-05T10:55:56.677152",
     "exception": false,
     "start_time": "2023-10-05T10:55:56.667634",
     "status": "completed"
    },
    "tags": []
   },
   "outputs": [
    {
     "name": "stdout",
     "output_type": "stream",
     "text": [
      "[[ 2  3  4]\n",
      " [ 5  6  7]\n",
      " [ 8  9 10]]\n"
     ]
    }
   ],
   "source": [
    "'''to create a 3x3 matrix with values ranging from 2 to 10'''\n",
    "c2074 = np.arange(2, 11).reshape(3,3)\n",
    "print(c2074)"
   ]
  },
  {
   "cell_type": "code",
   "execution_count": 3,
   "id": "941775b1",
   "metadata": {
    "execution": {
     "iopub.execute_input": "2023-10-05T10:55:56.682009Z",
     "iopub.status.busy": "2023-10-05T10:55:56.681349Z",
     "iopub.status.idle": "2023-10-05T10:55:56.686239Z",
     "shell.execute_reply": "2023-10-05T10:55:56.685402Z"
    },
    "papermill": {
     "duration": 0.009325,
     "end_time": "2023-10-05T10:55:56.688200",
     "exception": false,
     "start_time": "2023-10-05T10:55:56.678875",
     "status": "completed"
    },
    "tags": []
   },
   "outputs": [
    {
     "name": "stdout",
     "output_type": "stream",
     "text": [
      "Original array:\n",
      "[2, 0]\n",
      "After append:\n",
      "[2 0 7 4]\n"
     ]
    }
   ],
   "source": [
    "'''to append values at the end of an array'''\n",
    "d2074 = [2,0]\n",
    "print(\"Original array:\")\n",
    "print(d2074)\n",
    "e2074 = np.append(d2074, [[7], [4]])\n",
    "print(\"After append:\")\n",
    "print(e2074)"
   ]
  },
  {
   "cell_type": "code",
   "execution_count": 4,
   "id": "e279ef35",
   "metadata": {
    "execution": {
     "iopub.execute_input": "2023-10-05T10:55:56.692887Z",
     "iopub.status.busy": "2023-10-05T10:55:56.692663Z",
     "iopub.status.idle": "2023-10-05T10:55:56.697097Z",
     "shell.execute_reply": "2023-10-05T10:55:56.696562Z"
    },
    "papermill": {
     "duration": 0.008746,
     "end_time": "2023-10-05T10:55:56.698811",
     "exception": false,
     "start_time": "2023-10-05T10:55:56.690065",
     "status": "completed"
    },
    "tags": []
   },
   "outputs": [
    {
     "name": "stdout",
     "output_type": "stream",
     "text": [
      "Reshape 3x2:\n",
      "[[2 0]\n",
      " [7 0]\n",
      " [7 4]]\n",
      "Reshape 2x3:\n",
      "[[2 0 7]\n",
      " [0 7 4]]\n"
     ]
    }
   ],
   "source": [
    "'''to create another shape from an array without changing its data (3*2 to 2*3)'''\n",
    "f2074 = np.array([2, 0, 7, 0, 7,4 ])\n",
    "g2074 = np.reshape(f2074,(3,2))\n",
    "print(\"Reshape 3x2:\")\n",
    "print(g2074)\n",
    "h2074 = np.reshape(f2074,(2,3))\n",
    "print(\"Reshape 2x3:\")\n",
    "print(h2074)"
   ]
  },
  {
   "cell_type": "code",
   "execution_count": null,
   "id": "b8e6096b",
   "metadata": {
    "papermill": {
     "duration": 0.001718,
     "end_time": "2023-10-05T10:55:56.702337",
     "exception": false,
     "start_time": "2023-10-05T10:55:56.700619",
     "status": "completed"
    },
    "tags": []
   },
   "outputs": [],
   "source": []
  }
 ],
 "metadata": {
  "kernelspec": {
   "display_name": "Python 3",
   "language": "python",
   "name": "python3"
  },
  "language_info": {
   "codemirror_mode": {
    "name": "ipython",
    "version": 3
   },
   "file_extension": ".py",
   "mimetype": "text/x-python",
   "name": "python",
   "nbconvert_exporter": "python",
   "pygments_lexer": "ipython3",
   "version": "3.10.12"
  },
  "papermill": {
   "default_parameters": {},
   "duration": 2.98884,
   "end_time": "2023-10-05T10:55:56.920780",
   "environment_variables": {},
   "exception": null,
   "input_path": "__notebook__.ipynb",
   "output_path": "__notebook__.ipynb",
   "parameters": {},
   "start_time": "2023-10-05T10:55:53.931940",
   "version": "2.4.0"
  }
 },
 "nbformat": 4,
 "nbformat_minor": 5
}
